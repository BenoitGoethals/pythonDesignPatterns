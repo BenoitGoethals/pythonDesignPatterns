# ## Veelgebruikte Design Patterns in Python
# In deze notebook behandelen we enkele veelgebruikte design patterns in Python, waaronder Singleton, Factory Method, Strategy en Observer. Elk patroon wordt kort uitgelegd met een codevoorbeeld.

# ### 1. Singleton Pattern
# Het Singleton-patroon zorgt ervoor dat er slechts één instantie van een klasse wordt gemaakt.

class Singleton:
    _instance = None

    def __new__(cls):
        if cls._instance is None:
            cls._instance = super(Singleton, cls).__new__(cls)
        return cls._instance

# Gebruik van Singleton
singleton1 = Singleton()
singleton2 = Singleton()

# Beide objecten moeten hetzelfde zijn
print(singleton1 is singleton2)  # Output: True

# ### 2. Factory Method Pattern
# Het Factory Method-patroon biedt een manier om objecten te creëren zonder de exacte klasse te hoeven specificeren.

class Product:
    def operation(self):
        pass

class ConcreteProductA(Product):
    def operation(self):
        return "Product A"

class ConcreteProductB(Product):
    def operation(self):
        return "Product B"

class Creator:
    def factory_method(self):
        pass

    def some_operation(self):
        product = self.factory_method()
        return f"Creator: The same creator's code has just worked with {product.operation()}"

class ConcreteCreatorA(Creator):
    def factory_method(self):
        return ConcreteProductA()

class ConcreteCreatorB(Creator):
    def factory_method(self):
        return ConcreteProductB()

# Test Factory Method Pattern
creator_a = ConcreteCreatorA()
print(creator_a.some_operation())  # Output: Creator: The same creator's code has just worked with Product A

creator_b = ConcreteCreatorB()
print(creator_b.some_operation())  # Output: Creator: The same creator's code has just worked with Product B

# ### 3. Strategy Pattern
# Het Strategy-patroon maakt het mogelijk om algoritmes op een flexibele manier te wisselen binnen een object.

class Strategy:
    def do_algorithm(self, data):
        pass

class ConcreteStrategyA(Strategy):
    def do_algorithm(self, data):
        return sorted(data)

class ConcreteStrategyB(Strategy):
    def do_algorithm(self, data):
        return sorted(data, reverse=True)

class Context:
    def __init__(self, strategy: Strategy):
        self._strategy = strategy

    def set_strategy(self, strategy: Strategy):
        self._strategy = strategy

    def do_some_business_logic(self):
        data = ['a', 'b', 'c', 'd', 'e']
        result = self._strategy.do_algorithm(data)
        return result

# Gebruik van Strategy Pattern
context = Context(ConcreteStrategyA())
print(context.do_some_business_logic())  # Output: ['a', 'b', 'c', 'd', 'e']

context.set_strategy(ConcreteStrategyB())
print(context.do_some_business_logic())  # Output: ['e', 'd', 'c', 'b', 'a']

# ### 4. Observer Pattern
# Het Observer-patroon zorgt ervoor dat objecten automatisch worden op de hoogte gebracht wanneer er wijzigingen plaatsvinden.

class Subject:
    def __init__(self):
        self._observers = []

    def attach(self, observer):
        self._observers.append(observer)

    def detach(self, observer):
        self._observers.remove(observer)

    def notify(self):
        for observer in self._observers:
            observer.update(self)

class ConcreteSubject(Subject):
    def __init__(self):
        super().__init__()
        self._state = None

    def get_state(self):
        return self._state

    def set_state(self, state):
        self._state = state
        self.notify()

class Observer:
    def update(self, subject):
        pass

class ConcreteObserver(Observer):
    def update(self, subject):
        print(f"Observer: Reacted to the state change to {subject.get_state()}")

# Test Observer Pattern
subject = ConcreteSubject()

observer1 = ConcreteObserver()
observer2 = ConcreteObserver()

subject.attach(observer1)
subject.attach(observer2)

subject.set_state(1)  # Beide observers worden op de hoogte gebracht
subject.set_state(2)  # Beide observers worden opnieuw op de hoogte gebracht

# ### Samenvatting
# In deze notebook hebben we vier veelgebruikte design patterns besproken:
# 1. Singleton: Zorgt voor één enkele instantie van een klasse.
# 2. Factory Method: Zorgt voor een flexibele manier om objecten te creëren.
# 3. Strategy: Maakt het mogelijk om algoritmes te wisselen tijdens runtime.
# 4. Observer: Laat objecten automatisch reageren op veranderingen.
